{
 "cells": [
  {
   "cell_type": "code",
   "execution_count": null,
   "id": "727edecc",
   "metadata": {},
   "outputs": [],
   "source": [
    "# imports\n",
    "\n",
    "import pandas as pd\n",
    "import requests\n",
    "import csv\n",
    "import json \n",
    "import numpy as np\n",
    "import matplotlib.pyplot as plt\n",
    "from datetime import datetime\n",
    "import time"
   ]
  },
  {
   "cell_type": "code",
   "execution_count": null,
   "id": "5bab8af8",
   "metadata": {},
   "outputs": [],
   "source": [
    "# get data from website\n",
    "CA = requests.get(\"https://api.covidtracking.com/v2/states/ca/daily/simple.json\")\n",
    "TX = requests.get(\"https://api.covidtracking.com/v2/states/tx/daily/simple.json\")"
   ]
  },
  {
   "cell_type": "code",
   "execution_count": null,
   "id": "762bc452",
   "metadata": {},
   "outputs": [],
   "source": [
    "# getting json data we want\n",
    "texas = TX.json()['data']\n",
    "cali = CA.json()['data']"
   ]
  },
  {
   "cell_type": "code",
   "execution_count": null,
   "id": "f915b398",
   "metadata": {},
   "outputs": [],
   "source": [
    "# get data for texas into an array\n",
    "TX_array = []\n",
    "temp = []\n",
    "for item in texas:\n",
    "    if temp != []:\n",
    "        TX_array.append(temp)\n",
    "    # reset temp array\n",
    "    temp = []\n",
    "    \n",
    "    #add needed values to our array\n",
    "    temp.append(item['date'])\n",
    "    temp.append(item['cases']['total'])\n",
    "    temp.append(item['outcomes']['recovered'])\n",
    "    temp.append(item['outcomes']['hospitalized']['currently'])\n",
    "    temp.append(item['outcomes']['hospitalized']['in_icu']['currently'])\n",
    "    temp.append(item['outcomes']['death']['total'])\n",
    "\n",
    "# replaces NoneTypes with 0\n",
    "# NoneTypes are when there is no data collected, like deaths at the begining are all 0\n",
    "for index1, i in enumerate(TX_array):\n",
    "    for index2, j in enumerate(i):\n",
    "        if type(j) is type(None):\n",
    "            TX_array[index1][index2] = 0\n",
    "TX_array.pop(52)\n",
    "x = 5"
   ]
  },
  {
   "cell_type": "code",
   "execution_count": null,
   "id": "018c05fc",
   "metadata": {},
   "outputs": [],
   "source": [
    "# get data for California into an array\n",
    "CA_array = []\n",
    "temp = []\n",
    "for item in cali:\n",
    "    if temp != []:\n",
    "        CA_array.append(temp)\n",
    "    # reset temp array\n",
    "    temp = []\n",
    "    \n",
    "    #add needed values to our array\n",
    "    temp.append(item['date'])\n",
    "    temp.append(item['cases']['total'])\n",
    "    temp.append(item['outcomes']['recovered'])\n",
    "    temp.append(item['outcomes']['hospitalized']['currently'])\n",
    "    temp.append(item['outcomes']['hospitalized']['in_icu']['currently'])\n",
    "    temp.append(item['outcomes']['death']['total'])\n",
    "    \n",
    "# replaces NoneTypes with 0\n",
    "# NoneTypes are when there is no data collected, like deaths at the begining are all 0\n",
    "for index1, i in enumerate(CA_array):\n",
    "    for index2, j in enumerate(i):\n",
    "        if type(j) is type(None):\n",
    "            CA_array[index1][index2] = 0\n",
    "            "
   ]
  },
  {
   "cell_type": "code",
   "execution_count": null,
   "id": "3b903c25",
   "metadata": {},
   "outputs": [],
   "source": [
    "# make dates easy to put in order\n",
    "# for index, item in enumerate(TX_array):\n",
    "#     item[0] = int(item[0].replace(\"-\",\"\"))\n",
    "#     TX_array[index][0] = item[0]\n",
    "    \n",
    "# for index, item in enumerate(CA_array):\n",
    "#     item[0] = int(item[0].replace(\"-\",\"\"))\n",
    "#     CA_array[index][0] = item[0]\n",
    "\n",
    "for index, item in enumerate(CA_array):\n",
    "    dt = datetime.strptime(item[0], '%Y-%m-%d')\n",
    "    dt = time.mktime(dt.timetuple())\n",
    "    item[0] = dt\n",
    "    CA_array[index][0] = item[0]\n",
    "    \n",
    "for index, item in enumerate(TX_array):\n",
    "    dt = datetime.strptime(item[0], '%Y-%m-%d')\n",
    "    dt = time.mktime(dt.timetuple())\n",
    "    item[0] = dt\n",
    "    TX_array[index][0] = item[0]\n"
   ]
  },
  {
   "cell_type": "code",
   "execution_count": null,
   "id": "259c36a2",
   "metadata": {},
   "outputs": [],
   "source": [
    "# making it a dataframe because I know how to work with those\n",
    "column_values = ['date', 'cases', 'recovered', 'hospitalized', 'icu', 'death']\n",
    "TxArray = np.array(TX_array)\n",
    "\n",
    "Tx_df = pd.DataFrame(data = TxArray, \n",
    "                  columns = column_values)\n",
    "\n",
    "Tx_df['date'] = pd.to_datetime(Tx_df['date'], unit='s')\n",
    "\n",
    "CaArray = np.array(CA_array)\n",
    "\n",
    "Ca_df = pd.DataFrame(data = CaArray, \n",
    "                  columns = column_values)\n",
    "\n",
    "Ca_df['date'] = pd.to_datetime(Ca_df['date'], unit='s')"
   ]
  },
  {
   "cell_type": "code",
   "execution_count": null,
   "id": "0f9eab08",
   "metadata": {},
   "outputs": [],
   "source": [
    "plt.plot(Ca_df.date, Ca_df.cases, label=\"CA\")\n",
    "plt.plot(Ca_df.date, Tx_df.cases, label=\"TX\")\n",
    "plt.legend()\n",
    "plt.title(\"Total Cases\")\n",
    "\n",
    "plt.show()"
   ]
  },
  {
   "cell_type": "code",
   "execution_count": null,
   "id": "f14118be",
   "metadata": {},
   "outputs": [],
   "source": [
    "plt.plot(Ca_df.date, Ca_df.hospitalized, label=\"CA\")\n",
    "plt.plot(Ca_df.date, Tx_df.hospitalized, label=\"TX\")\n",
    "plt.legend()\n",
    "plt.title(\"Total Hospitalized\")\n",
    "\n",
    "plt.show()"
   ]
  },
  {
   "cell_type": "code",
   "execution_count": null,
   "id": "3e3bd2e9",
   "metadata": {},
   "outputs": [],
   "source": [
    "plt.plot(Ca_df.date, Ca_df.icu, label=\"CA\")\n",
    "plt.plot(Ca_df.date, Tx_df.icu, label=\"TX\")\n",
    "plt.legend()\n",
    "plt.title(\"Total in ICU\")\n",
    "\n",
    "plt.show()"
   ]
  },
  {
   "cell_type": "code",
   "execution_count": null,
   "id": "fcefb0b8",
   "metadata": {},
   "outputs": [],
   "source": [
    "plt.plot(Ca_df.date, Ca_df.death, label=\"CA\")\n",
    "plt.plot(Ca_df.date, Tx_df.death, label=\"TX\")\n",
    "plt.legend()\n",
    "plt.title(\"Total Deaths\")\n",
    "\n",
    "plt.show()"
   ]
  }
 ],
 "metadata": {
  "kernelspec": {
   "display_name": "Python 3 (ipykernel)",
   "language": "python",
   "name": "python3"
  },
  "language_info": {
   "codemirror_mode": {
    "name": "ipython",
    "version": 3
   },
   "file_extension": ".py",
   "mimetype": "text/x-python",
   "name": "python",
   "nbconvert_exporter": "python",
   "pygments_lexer": "ipython3",
   "version": "3.11.4"
  }
 },
 "nbformat": 4,
 "nbformat_minor": 5
}
